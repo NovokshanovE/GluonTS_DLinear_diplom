{
 "cells": [
  {
   "cell_type": "code",
   "execution_count": 48,
   "metadata": {},
   "outputs": [
    {
     "name": "stdout",
     "output_type": "stream",
     "text": [
      "Note: you may need to restart the kernel to use updated packages.\n"
     ]
    }
   ],
   "source": [
    "%pip install -q transformers datasets evaluate accelerate \"gluonts[torch]\" ujson tqdm"
   ]
  },
  {
   "cell_type": "code",
   "execution_count": 49,
   "metadata": {},
   "outputs": [],
   "source": [
    "prediction_length = 24\n",
    "context_length = prediction_length*2\n",
    "batch_size = 128\n",
    "num_batches_per_epoch = 100\n",
    "epochs = 50\n",
    "scaling = \"std\""
   ]
  },
  {
   "cell_type": "code",
   "execution_count": 50,
   "metadata": {},
   "outputs": [],
   "source": [
    "encoder_layers=2\n",
    "decoder_layers=2\n",
    "d_model=16"
   ]
  },
  {
   "cell_type": "code",
   "execution_count": 51,
   "metadata": {},
   "outputs": [],
   "source": [
    "import pandas as pd\n",
    "\n",
    "df = pd.read_csv('ETTh1.csv')"
   ]
  },
  {
   "cell_type": "code",
   "execution_count": 52,
   "metadata": {},
   "outputs": [
    {
     "name": "stdout",
     "output_type": "stream",
     "text": [
      "Help on function ListDataset in module gluonts.dataset.common:\n",
      "\n",
      "ListDataset(data_iter: gluonts.dataset.Dataset, freq: str, one_dim_target: bool = True, use_timestamp: bool = False, translate: Optional[dict] = None) -> List[Dict[str, Any]]\n",
      "    Dataset backed directly by a list of dictionaries.\n",
      "    \n",
      "    Parameters\n",
      "    ----------\n",
      "    data_iter\n",
      "        Iterable object yielding all items in the dataset.\n",
      "        Each item should be a dictionary mapping strings to values.\n",
      "        For instance: {\"start\": \"2014-09-07\", \"target\": [0.1, 0.2]}.\n",
      "    freq\n",
      "        Frequency of the observation in the time series.\n",
      "        Must be a valid Pandas frequency.\n",
      "    one_dim_target\n",
      "        Whether to accept only univariate target time series.\n",
      "\n"
     ]
    }
   ],
   "source": [
    "from gluonts.dataset.repository.datasets import get_dataset\n",
    "import gluonts.dataset as dt\n",
    "from gluonts.dataset.common import ListDataset\n",
    "from gluonts.dataset.pandas import PandasDataset\n",
    "# train_data = [{\"start\": df[\"date\"][i], \"target\": df[\"HUFL\"][i]} for i in range(len(df))]\n",
    "data = []\n",
    "for i in range(len(df)):\n",
    "    data_point = {\n",
    "        \"start\": pd.Timestamp(df[\"date\"][i]),\n",
    "        \"target\": df.iloc[i, 1:].values.tolist()  # Берем значения с индекса 1 и до конца строки\n",
    "    }\n",
    "    data.append(data_point)\n",
    "\n",
    "# Создаем объект ListDataset из данных\n",
    "help(ListDataset)\n",
    "dataset = ListDataset(data, freq=\"D\")\n",
    "# # Следующие строки кода создают объект ListDataset из данных\n",
    "# # dataset = PandasDataset(df)\n",
    "# # dataset = get_dataset(\"traffic\")\n",
    "#freq = dataset.metadata.freq\n",
    "#prediction_length = dataset.metadata.prediction_length\n"
   ]
  },
  {
   "cell_type": "code",
   "execution_count": 53,
   "metadata": {},
   "outputs": [],
   "source": [
    "import matplotlib.pyplot as plt\n",
    "\n",
    "# train_example = next(iter(dataset.train))\n",
    "# test_example = next(iter(dataset.test))\n",
    "\n",
    "# num_of_samples = 4*prediction_length\n",
    "\n",
    "# figure, axes = plt.subplots()\n",
    "# axes.plot(train_example[\"target\"][-num_of_samples:], color=\"blue\")\n",
    "# axes.plot(\n",
    "#     test_example[\"target\"][-num_of_samples - prediction_length :],\n",
    "#     color=\"red\",\n",
    "#     alpha=0.5,\n",
    "# )\n",
    "\n",
    "# plt.show()\n"
   ]
  },
  {
   "cell_type": "code",
   "execution_count": 70,
   "metadata": {},
   "outputs": [
    {
     "name": "stderr",
     "output_type": "stream",
     "text": [
      "Download tourism_quarterly_dataset.zip:: 96.0kB [00:00, 124kB/s]\n",
      "creating json files: 100%|██████████| 427/427 [00:00<00:00, 184236.99it/s]\n"
     ]
    }
   ],
   "source": [
    "from gluonts.dataset.repository.datasets import get_dataset\n",
    "\n",
    "dataset = get_dataset(\"tourism_quarterly\")\n",
    "freq = dataset.metadata.freq\n",
    "prediction_length = dataset.metadata.prediction_length\n"
   ]
  },
  {
   "cell_type": "code",
   "execution_count": 71,
   "metadata": {},
   "outputs": [],
   "source": [
    "train_dataset = dataset.train\n",
    "test_dataset = dataset.test"
   ]
  },
  {
   "cell_type": "code",
   "execution_count": 72,
   "metadata": {},
   "outputs": [],
   "source": [
    "from gluonts.torch.model.d_linear.estimator import DLinearEstimator\n",
    "\n",
    "# Define the DLinear model with the same parameters as the Autoformer model\n",
    "estimator = DLinearEstimator(\n",
    "    prediction_length=dataset.metadata.prediction_length,\n",
    "    context_length=dataset.metadata.prediction_length*2,\n",
    "    scaling=scaling,\n",
    "    hidden_dimension=2,\n",
    "    \n",
    "    batch_size=batch_size,\n",
    "    num_batches_per_epoch=num_batches_per_epoch,\n",
    "    trainer_kwargs=dict(max_epochs=epochs)\n",
    ")\n"
   ]
  },
  {
   "cell_type": "code",
   "execution_count": 73,
   "metadata": {},
   "outputs": [
    {
     "name": "stderr",
     "output_type": "stream",
     "text": [
      "INFO: GPU available: False, used: False\n",
      "INFO:lightning.pytorch.utilities.rank_zero:GPU available: False, used: False\n",
      "INFO: TPU available: False, using: 0 TPU cores\n",
      "INFO:lightning.pytorch.utilities.rank_zero:TPU available: False, using: 0 TPU cores\n",
      "INFO: IPU available: False, using: 0 IPUs\n",
      "INFO:lightning.pytorch.utilities.rank_zero:IPU available: False, using: 0 IPUs\n",
      "INFO: HPU available: False, using: 0 HPUs\n",
      "INFO:lightning.pytorch.utilities.rank_zero:HPU available: False, using: 0 HPUs\n",
      "c:\\Users\\evgeny\\miniconda3\\envs\\test_tsf\\lib\\site-packages\\lightning\\pytorch\\trainer\\configuration_validator.py:74: You defined a `validation_step` but have no `val_dataloader`. Skipping val loop.\n",
      "INFO: \n",
      "  | Name  | Type         | Params\n",
      "---------------------------------------\n",
      "0 | model | DLinearModel | 553   \n",
      "---------------------------------------\n",
      "553       Trainable params\n",
      "0         Non-trainable params\n",
      "553       Total params\n",
      "0.002     Total estimated model params size (MB)\n",
      "INFO:lightning.pytorch.callbacks.model_summary:\n",
      "  | Name  | Type         | Params\n",
      "---------------------------------------\n",
      "0 | model | DLinearModel | 553   \n",
      "---------------------------------------\n",
      "553       Trainable params\n",
      "0         Non-trainable params\n",
      "553       Total params\n",
      "0.002     Total estimated model params size (MB)\n"
     ]
    },
    {
     "name": "stdout",
     "output_type": "stream",
     "text": [
      "Epoch 0: |          | 100/? [00:00<00:00, 113.25it/s, v_num=3, train_loss=10.50]"
     ]
    },
    {
     "name": "stderr",
     "output_type": "stream",
     "text": [
      "INFO: Epoch 0, global step 100: 'train_loss' reached 10.46087 (best 10.46087), saving model to 'c:\\\\Users\\\\evgeny\\\\Diplom\\\\Code\\\\GluonTS\\\\test1\\\\lightning_logs\\\\version_3\\\\checkpoints\\\\epoch=0-step=100.ckpt' as top 1\n",
      "INFO:lightning.pytorch.utilities.rank_zero:Epoch 0, global step 100: 'train_loss' reached 10.46087 (best 10.46087), saving model to 'c:\\\\Users\\\\evgeny\\\\Diplom\\\\Code\\\\GluonTS\\\\test1\\\\lightning_logs\\\\version_3\\\\checkpoints\\\\epoch=0-step=100.ckpt' as top 1\n"
     ]
    },
    {
     "name": "stdout",
     "output_type": "stream",
     "text": [
      "Epoch 1: |          | 100/? [00:00<00:00, 120.22it/s, v_num=3, train_loss=9.010]"
     ]
    },
    {
     "name": "stderr",
     "output_type": "stream",
     "text": [
      "INFO: Epoch 1, global step 200: 'train_loss' reached 9.01033 (best 9.01033), saving model to 'c:\\\\Users\\\\evgeny\\\\Diplom\\\\Code\\\\GluonTS\\\\test1\\\\lightning_logs\\\\version_3\\\\checkpoints\\\\epoch=1-step=200.ckpt' as top 1\n",
      "INFO:lightning.pytorch.utilities.rank_zero:Epoch 1, global step 200: 'train_loss' reached 9.01033 (best 9.01033), saving model to 'c:\\\\Users\\\\evgeny\\\\Diplom\\\\Code\\\\GluonTS\\\\test1\\\\lightning_logs\\\\version_3\\\\checkpoints\\\\epoch=1-step=200.ckpt' as top 1\n"
     ]
    },
    {
     "name": "stdout",
     "output_type": "stream",
     "text": [
      "Epoch 2: |          | 100/? [00:00<00:00, 118.81it/s, v_num=3, train_loss=8.950]"
     ]
    },
    {
     "name": "stderr",
     "output_type": "stream",
     "text": [
      "INFO: Epoch 2, global step 300: 'train_loss' reached 8.95187 (best 8.95187), saving model to 'c:\\\\Users\\\\evgeny\\\\Diplom\\\\Code\\\\GluonTS\\\\test1\\\\lightning_logs\\\\version_3\\\\checkpoints\\\\epoch=2-step=300.ckpt' as top 1\n",
      "INFO:lightning.pytorch.utilities.rank_zero:Epoch 2, global step 300: 'train_loss' reached 8.95187 (best 8.95187), saving model to 'c:\\\\Users\\\\evgeny\\\\Diplom\\\\Code\\\\GluonTS\\\\test1\\\\lightning_logs\\\\version_3\\\\checkpoints\\\\epoch=2-step=300.ckpt' as top 1\n"
     ]
    },
    {
     "name": "stdout",
     "output_type": "stream",
     "text": [
      "Epoch 3: |          | 100/? [00:00<00:00, 121.06it/s, v_num=3, train_loss=8.950]"
     ]
    },
    {
     "name": "stderr",
     "output_type": "stream",
     "text": [
      "INFO: Epoch 3, global step 400: 'train_loss' reached 8.94944 (best 8.94944), saving model to 'c:\\\\Users\\\\evgeny\\\\Diplom\\\\Code\\\\GluonTS\\\\test1\\\\lightning_logs\\\\version_3\\\\checkpoints\\\\epoch=3-step=400.ckpt' as top 1\n",
      "INFO:lightning.pytorch.utilities.rank_zero:Epoch 3, global step 400: 'train_loss' reached 8.94944 (best 8.94944), saving model to 'c:\\\\Users\\\\evgeny\\\\Diplom\\\\Code\\\\GluonTS\\\\test1\\\\lightning_logs\\\\version_3\\\\checkpoints\\\\epoch=3-step=400.ckpt' as top 1\n"
     ]
    },
    {
     "name": "stdout",
     "output_type": "stream",
     "text": [
      "Epoch 4: |          | 100/? [00:00<00:00, 120.83it/s, v_num=3, train_loss=8.890]"
     ]
    },
    {
     "name": "stderr",
     "output_type": "stream",
     "text": [
      "INFO: Epoch 4, global step 500: 'train_loss' reached 8.89212 (best 8.89212), saving model to 'c:\\\\Users\\\\evgeny\\\\Diplom\\\\Code\\\\GluonTS\\\\test1\\\\lightning_logs\\\\version_3\\\\checkpoints\\\\epoch=4-step=500.ckpt' as top 1\n",
      "INFO:lightning.pytorch.utilities.rank_zero:Epoch 4, global step 500: 'train_loss' reached 8.89212 (best 8.89212), saving model to 'c:\\\\Users\\\\evgeny\\\\Diplom\\\\Code\\\\GluonTS\\\\test1\\\\lightning_logs\\\\version_3\\\\checkpoints\\\\epoch=4-step=500.ckpt' as top 1\n"
     ]
    },
    {
     "name": "stdout",
     "output_type": "stream",
     "text": [
      "Epoch 5: |          | 100/? [00:00<00:00, 120.59it/s, v_num=3, train_loss=8.830]"
     ]
    },
    {
     "name": "stderr",
     "output_type": "stream",
     "text": [
      "INFO: Epoch 5, global step 600: 'train_loss' reached 8.83211 (best 8.83211), saving model to 'c:\\\\Users\\\\evgeny\\\\Diplom\\\\Code\\\\GluonTS\\\\test1\\\\lightning_logs\\\\version_3\\\\checkpoints\\\\epoch=5-step=600.ckpt' as top 1\n",
      "INFO:lightning.pytorch.utilities.rank_zero:Epoch 5, global step 600: 'train_loss' reached 8.83211 (best 8.83211), saving model to 'c:\\\\Users\\\\evgeny\\\\Diplom\\\\Code\\\\GluonTS\\\\test1\\\\lightning_logs\\\\version_3\\\\checkpoints\\\\epoch=5-step=600.ckpt' as top 1\n"
     ]
    },
    {
     "name": "stdout",
     "output_type": "stream",
     "text": [
      "Epoch 6: |          | 100/? [00:00<00:00, 122.45it/s, v_num=3, train_loss=8.820]"
     ]
    },
    {
     "name": "stderr",
     "output_type": "stream",
     "text": [
      "INFO: Epoch 6, global step 700: 'train_loss' reached 8.82014 (best 8.82014), saving model to 'c:\\\\Users\\\\evgeny\\\\Diplom\\\\Code\\\\GluonTS\\\\test1\\\\lightning_logs\\\\version_3\\\\checkpoints\\\\epoch=6-step=700.ckpt' as top 1\n",
      "INFO:lightning.pytorch.utilities.rank_zero:Epoch 6, global step 700: 'train_loss' reached 8.82014 (best 8.82014), saving model to 'c:\\\\Users\\\\evgeny\\\\Diplom\\\\Code\\\\GluonTS\\\\test1\\\\lightning_logs\\\\version_3\\\\checkpoints\\\\epoch=6-step=700.ckpt' as top 1\n"
     ]
    },
    {
     "name": "stdout",
     "output_type": "stream",
     "text": [
      "Epoch 7: |          | 100/? [00:00<00:00, 111.18it/s, v_num=3, train_loss=8.780]"
     ]
    },
    {
     "name": "stderr",
     "output_type": "stream",
     "text": [
      "INFO: Epoch 7, global step 800: 'train_loss' reached 8.78012 (best 8.78012), saving model to 'c:\\\\Users\\\\evgeny\\\\Diplom\\\\Code\\\\GluonTS\\\\test1\\\\lightning_logs\\\\version_3\\\\checkpoints\\\\epoch=7-step=800.ckpt' as top 1\n",
      "INFO:lightning.pytorch.utilities.rank_zero:Epoch 7, global step 800: 'train_loss' reached 8.78012 (best 8.78012), saving model to 'c:\\\\Users\\\\evgeny\\\\Diplom\\\\Code\\\\GluonTS\\\\test1\\\\lightning_logs\\\\version_3\\\\checkpoints\\\\epoch=7-step=800.ckpt' as top 1\n"
     ]
    },
    {
     "name": "stdout",
     "output_type": "stream",
     "text": [
      "Epoch 8: |          | 100/? [00:00<00:00, 112.19it/s, v_num=3, train_loss=8.710]"
     ]
    },
    {
     "name": "stderr",
     "output_type": "stream",
     "text": [
      "INFO: Epoch 8, global step 900: 'train_loss' reached 8.70615 (best 8.70615), saving model to 'c:\\\\Users\\\\evgeny\\\\Diplom\\\\Code\\\\GluonTS\\\\test1\\\\lightning_logs\\\\version_3\\\\checkpoints\\\\epoch=8-step=900.ckpt' as top 1\n",
      "INFO:lightning.pytorch.utilities.rank_zero:Epoch 8, global step 900: 'train_loss' reached 8.70615 (best 8.70615), saving model to 'c:\\\\Users\\\\evgeny\\\\Diplom\\\\Code\\\\GluonTS\\\\test1\\\\lightning_logs\\\\version_3\\\\checkpoints\\\\epoch=8-step=900.ckpt' as top 1\n"
     ]
    },
    {
     "name": "stdout",
     "output_type": "stream",
     "text": [
      "Epoch 9: |          | 100/? [00:00<00:00, 108.74it/s, v_num=3, train_loss=8.750]"
     ]
    },
    {
     "name": "stderr",
     "output_type": "stream",
     "text": [
      "INFO: Epoch 9, global step 1000: 'train_loss' was not in top 1\n",
      "INFO:lightning.pytorch.utilities.rank_zero:Epoch 9, global step 1000: 'train_loss' was not in top 1\n"
     ]
    },
    {
     "name": "stdout",
     "output_type": "stream",
     "text": [
      "Epoch 10: |          | 100/? [00:00<00:00, 101.78it/s, v_num=3, train_loss=8.660]"
     ]
    },
    {
     "name": "stderr",
     "output_type": "stream",
     "text": [
      "INFO: Epoch 10, global step 1100: 'train_loss' reached 8.65859 (best 8.65859), saving model to 'c:\\\\Users\\\\evgeny\\\\Diplom\\\\Code\\\\GluonTS\\\\test1\\\\lightning_logs\\\\version_3\\\\checkpoints\\\\epoch=10-step=1100.ckpt' as top 1\n",
      "INFO:lightning.pytorch.utilities.rank_zero:Epoch 10, global step 1100: 'train_loss' reached 8.65859 (best 8.65859), saving model to 'c:\\\\Users\\\\evgeny\\\\Diplom\\\\Code\\\\GluonTS\\\\test1\\\\lightning_logs\\\\version_3\\\\checkpoints\\\\epoch=10-step=1100.ckpt' as top 1\n"
     ]
    },
    {
     "name": "stdout",
     "output_type": "stream",
     "text": [
      "Epoch 11: |          | 100/? [00:00<00:00, 102.71it/s, v_num=3, train_loss=8.720]"
     ]
    },
    {
     "name": "stderr",
     "output_type": "stream",
     "text": [
      "INFO: Epoch 11, global step 1200: 'train_loss' was not in top 1\n",
      "INFO:lightning.pytorch.utilities.rank_zero:Epoch 11, global step 1200: 'train_loss' was not in top 1\n"
     ]
    },
    {
     "name": "stdout",
     "output_type": "stream",
     "text": [
      "Epoch 12: |          | 100/? [00:00<00:00, 100.60it/s, v_num=3, train_loss=8.670]"
     ]
    },
    {
     "name": "stderr",
     "output_type": "stream",
     "text": [
      "INFO: Epoch 12, global step 1300: 'train_loss' was not in top 1\n",
      "INFO:lightning.pytorch.utilities.rank_zero:Epoch 12, global step 1300: 'train_loss' was not in top 1\n"
     ]
    },
    {
     "name": "stdout",
     "output_type": "stream",
     "text": [
      "Epoch 13: |          | 100/? [00:00<00:00, 104.82it/s, v_num=3, train_loss=8.650]"
     ]
    },
    {
     "name": "stderr",
     "output_type": "stream",
     "text": [
      "INFO: Epoch 13, global step 1400: 'train_loss' reached 8.65053 (best 8.65053), saving model to 'c:\\\\Users\\\\evgeny\\\\Diplom\\\\Code\\\\GluonTS\\\\test1\\\\lightning_logs\\\\version_3\\\\checkpoints\\\\epoch=13-step=1400.ckpt' as top 1\n",
      "INFO:lightning.pytorch.utilities.rank_zero:Epoch 13, global step 1400: 'train_loss' reached 8.65053 (best 8.65053), saving model to 'c:\\\\Users\\\\evgeny\\\\Diplom\\\\Code\\\\GluonTS\\\\test1\\\\lightning_logs\\\\version_3\\\\checkpoints\\\\epoch=13-step=1400.ckpt' as top 1\n"
     ]
    },
    {
     "name": "stdout",
     "output_type": "stream",
     "text": [
      "Epoch 14: |          | 100/? [00:00<00:00, 101.53it/s, v_num=3, train_loss=8.660]"
     ]
    },
    {
     "name": "stderr",
     "output_type": "stream",
     "text": [
      "INFO: Epoch 14, global step 1500: 'train_loss' was not in top 1\n",
      "INFO:lightning.pytorch.utilities.rank_zero:Epoch 14, global step 1500: 'train_loss' was not in top 1\n"
     ]
    },
    {
     "name": "stdout",
     "output_type": "stream",
     "text": [
      "Epoch 15: |          | 100/? [00:00<00:00, 102.01it/s, v_num=3, train_loss=8.650]"
     ]
    },
    {
     "name": "stderr",
     "output_type": "stream",
     "text": [
      "INFO: Epoch 15, global step 1600: 'train_loss' reached 8.64958 (best 8.64958), saving model to 'c:\\\\Users\\\\evgeny\\\\Diplom\\\\Code\\\\GluonTS\\\\test1\\\\lightning_logs\\\\version_3\\\\checkpoints\\\\epoch=15-step=1600.ckpt' as top 1\n",
      "INFO:lightning.pytorch.utilities.rank_zero:Epoch 15, global step 1600: 'train_loss' reached 8.64958 (best 8.64958), saving model to 'c:\\\\Users\\\\evgeny\\\\Diplom\\\\Code\\\\GluonTS\\\\test1\\\\lightning_logs\\\\version_3\\\\checkpoints\\\\epoch=15-step=1600.ckpt' as top 1\n"
     ]
    },
    {
     "name": "stdout",
     "output_type": "stream",
     "text": [
      "Epoch 16: |          | 100/? [00:00<00:00, 104.73it/s, v_num=3, train_loss=8.640]"
     ]
    },
    {
     "name": "stderr",
     "output_type": "stream",
     "text": [
      "INFO: Epoch 16, global step 1700: 'train_loss' reached 8.63678 (best 8.63678), saving model to 'c:\\\\Users\\\\evgeny\\\\Diplom\\\\Code\\\\GluonTS\\\\test1\\\\lightning_logs\\\\version_3\\\\checkpoints\\\\epoch=16-step=1700.ckpt' as top 1\n",
      "INFO:lightning.pytorch.utilities.rank_zero:Epoch 16, global step 1700: 'train_loss' reached 8.63678 (best 8.63678), saving model to 'c:\\\\Users\\\\evgeny\\\\Diplom\\\\Code\\\\GluonTS\\\\test1\\\\lightning_logs\\\\version_3\\\\checkpoints\\\\epoch=16-step=1700.ckpt' as top 1\n"
     ]
    },
    {
     "name": "stdout",
     "output_type": "stream",
     "text": [
      "Epoch 17: |          | 100/? [00:01<00:00, 97.93it/s, v_num=3, train_loss=8.690] "
     ]
    },
    {
     "name": "stderr",
     "output_type": "stream",
     "text": [
      "INFO: Epoch 17, global step 1800: 'train_loss' was not in top 1\n",
      "INFO:lightning.pytorch.utilities.rank_zero:Epoch 17, global step 1800: 'train_loss' was not in top 1\n"
     ]
    },
    {
     "name": "stdout",
     "output_type": "stream",
     "text": [
      "Epoch 18: |          | 100/? [00:01<00:00, 96.90it/s, v_num=3, train_loss=8.690]"
     ]
    },
    {
     "name": "stderr",
     "output_type": "stream",
     "text": [
      "INFO: Epoch 18, global step 1900: 'train_loss' was not in top 1\n",
      "INFO:lightning.pytorch.utilities.rank_zero:Epoch 18, global step 1900: 'train_loss' was not in top 1\n"
     ]
    },
    {
     "name": "stdout",
     "output_type": "stream",
     "text": [
      "Epoch 19: |          | 100/? [00:00<00:00, 103.49it/s, v_num=3, train_loss=8.620]"
     ]
    },
    {
     "name": "stderr",
     "output_type": "stream",
     "text": [
      "INFO: Epoch 19, global step 2000: 'train_loss' reached 8.61866 (best 8.61866), saving model to 'c:\\\\Users\\\\evgeny\\\\Diplom\\\\Code\\\\GluonTS\\\\test1\\\\lightning_logs\\\\version_3\\\\checkpoints\\\\epoch=19-step=2000.ckpt' as top 1\n",
      "INFO:lightning.pytorch.utilities.rank_zero:Epoch 19, global step 2000: 'train_loss' reached 8.61866 (best 8.61866), saving model to 'c:\\\\Users\\\\evgeny\\\\Diplom\\\\Code\\\\GluonTS\\\\test1\\\\lightning_logs\\\\version_3\\\\checkpoints\\\\epoch=19-step=2000.ckpt' as top 1\n"
     ]
    },
    {
     "name": "stdout",
     "output_type": "stream",
     "text": [
      "Epoch 20: |          | 100/? [00:00<00:00, 103.14it/s, v_num=3, train_loss=8.570]"
     ]
    },
    {
     "name": "stderr",
     "output_type": "stream",
     "text": [
      "INFO: Epoch 20, global step 2100: 'train_loss' reached 8.57185 (best 8.57185), saving model to 'c:\\\\Users\\\\evgeny\\\\Diplom\\\\Code\\\\GluonTS\\\\test1\\\\lightning_logs\\\\version_3\\\\checkpoints\\\\epoch=20-step=2100.ckpt' as top 1\n",
      "INFO:lightning.pytorch.utilities.rank_zero:Epoch 20, global step 2100: 'train_loss' reached 8.57185 (best 8.57185), saving model to 'c:\\\\Users\\\\evgeny\\\\Diplom\\\\Code\\\\GluonTS\\\\test1\\\\lightning_logs\\\\version_3\\\\checkpoints\\\\epoch=20-step=2100.ckpt' as top 1\n"
     ]
    },
    {
     "name": "stdout",
     "output_type": "stream",
     "text": [
      "Epoch 21: |          | 100/? [00:00<00:00, 114.68it/s, v_num=3, train_loss=8.690]"
     ]
    },
    {
     "name": "stderr",
     "output_type": "stream",
     "text": [
      "INFO: Epoch 21, global step 2200: 'train_loss' was not in top 1\n",
      "INFO:lightning.pytorch.utilities.rank_zero:Epoch 21, global step 2200: 'train_loss' was not in top 1\n"
     ]
    },
    {
     "name": "stdout",
     "output_type": "stream",
     "text": [
      "Epoch 22: |          | 100/? [00:00<00:00, 111.68it/s, v_num=3, train_loss=8.660]"
     ]
    },
    {
     "name": "stderr",
     "output_type": "stream",
     "text": [
      "INFO: Epoch 22, global step 2300: 'train_loss' was not in top 1\n",
      "INFO:lightning.pytorch.utilities.rank_zero:Epoch 22, global step 2300: 'train_loss' was not in top 1\n"
     ]
    },
    {
     "name": "stdout",
     "output_type": "stream",
     "text": [
      "Epoch 23: |          | 100/? [00:00<00:00, 110.40it/s, v_num=3, train_loss=8.620]"
     ]
    },
    {
     "name": "stderr",
     "output_type": "stream",
     "text": [
      "INFO: Epoch 23, global step 2400: 'train_loss' was not in top 1\n",
      "INFO:lightning.pytorch.utilities.rank_zero:Epoch 23, global step 2400: 'train_loss' was not in top 1\n"
     ]
    },
    {
     "name": "stdout",
     "output_type": "stream",
     "text": [
      "Epoch 24: |          | 100/? [00:00<00:00, 111.97it/s, v_num=3, train_loss=8.580]"
     ]
    },
    {
     "name": "stderr",
     "output_type": "stream",
     "text": [
      "INFO: Epoch 24, global step 2500: 'train_loss' was not in top 1\n",
      "INFO:lightning.pytorch.utilities.rank_zero:Epoch 24, global step 2500: 'train_loss' was not in top 1\n"
     ]
    },
    {
     "name": "stdout",
     "output_type": "stream",
     "text": [
      "Epoch 25: |          | 100/? [00:00<00:00, 114.92it/s, v_num=3, train_loss=8.610]"
     ]
    },
    {
     "name": "stderr",
     "output_type": "stream",
     "text": [
      "INFO: Epoch 25, global step 2600: 'train_loss' was not in top 1\n",
      "INFO:lightning.pytorch.utilities.rank_zero:Epoch 25, global step 2600: 'train_loss' was not in top 1\n"
     ]
    },
    {
     "name": "stdout",
     "output_type": "stream",
     "text": [
      "Epoch 26: |          | 100/? [00:00<00:00, 114.88it/s, v_num=3, train_loss=8.620]"
     ]
    },
    {
     "name": "stderr",
     "output_type": "stream",
     "text": [
      "INFO: Epoch 26, global step 2700: 'train_loss' was not in top 1\n",
      "INFO:lightning.pytorch.utilities.rank_zero:Epoch 26, global step 2700: 'train_loss' was not in top 1\n"
     ]
    },
    {
     "name": "stdout",
     "output_type": "stream",
     "text": [
      "Epoch 27: |          | 100/? [00:00<00:00, 113.21it/s, v_num=3, train_loss=8.640]"
     ]
    },
    {
     "name": "stderr",
     "output_type": "stream",
     "text": [
      "INFO: Epoch 27, global step 2800: 'train_loss' was not in top 1\n",
      "INFO:lightning.pytorch.utilities.rank_zero:Epoch 27, global step 2800: 'train_loss' was not in top 1\n"
     ]
    },
    {
     "name": "stdout",
     "output_type": "stream",
     "text": [
      "Epoch 28: |          | 100/? [00:00<00:00, 114.28it/s, v_num=3, train_loss=8.550]"
     ]
    },
    {
     "name": "stderr",
     "output_type": "stream",
     "text": [
      "INFO: Epoch 28, global step 2900: 'train_loss' reached 8.55357 (best 8.55357), saving model to 'c:\\\\Users\\\\evgeny\\\\Diplom\\\\Code\\\\GluonTS\\\\test1\\\\lightning_logs\\\\version_3\\\\checkpoints\\\\epoch=28-step=2900.ckpt' as top 1\n",
      "INFO:lightning.pytorch.utilities.rank_zero:Epoch 28, global step 2900: 'train_loss' reached 8.55357 (best 8.55357), saving model to 'c:\\\\Users\\\\evgeny\\\\Diplom\\\\Code\\\\GluonTS\\\\test1\\\\lightning_logs\\\\version_3\\\\checkpoints\\\\epoch=28-step=2900.ckpt' as top 1\n"
     ]
    },
    {
     "name": "stdout",
     "output_type": "stream",
     "text": [
      "Epoch 29: |          | 100/? [00:00<00:00, 113.99it/s, v_num=3, train_loss=8.580]"
     ]
    },
    {
     "name": "stderr",
     "output_type": "stream",
     "text": [
      "INFO: Epoch 29, global step 3000: 'train_loss' was not in top 1\n",
      "INFO:lightning.pytorch.utilities.rank_zero:Epoch 29, global step 3000: 'train_loss' was not in top 1\n"
     ]
    },
    {
     "name": "stdout",
     "output_type": "stream",
     "text": [
      "Epoch 30: |          | 100/? [00:00<00:00, 109.51it/s, v_num=3, train_loss=8.590]"
     ]
    },
    {
     "name": "stderr",
     "output_type": "stream",
     "text": [
      "INFO: Epoch 30, global step 3100: 'train_loss' was not in top 1\n",
      "INFO:lightning.pytorch.utilities.rank_zero:Epoch 30, global step 3100: 'train_loss' was not in top 1\n"
     ]
    },
    {
     "name": "stdout",
     "output_type": "stream",
     "text": [
      "Epoch 31: |          | 100/? [00:01<00:00, 97.38it/s, v_num=3, train_loss=8.650] "
     ]
    },
    {
     "name": "stderr",
     "output_type": "stream",
     "text": [
      "INFO: Epoch 31, global step 3200: 'train_loss' was not in top 1\n",
      "INFO:lightning.pytorch.utilities.rank_zero:Epoch 31, global step 3200: 'train_loss' was not in top 1\n"
     ]
    },
    {
     "name": "stdout",
     "output_type": "stream",
     "text": [
      "Epoch 32: |          | 100/? [00:01<00:00, 98.44it/s, v_num=3, train_loss=8.580]"
     ]
    },
    {
     "name": "stderr",
     "output_type": "stream",
     "text": [
      "INFO: Epoch 32, global step 3300: 'train_loss' was not in top 1\n",
      "INFO:lightning.pytorch.utilities.rank_zero:Epoch 32, global step 3300: 'train_loss' was not in top 1\n"
     ]
    },
    {
     "name": "stdout",
     "output_type": "stream",
     "text": [
      "Epoch 33: |          | 100/? [00:01<00:00, 99.53it/s, v_num=3, train_loss=8.660]"
     ]
    },
    {
     "name": "stderr",
     "output_type": "stream",
     "text": [
      "INFO: Epoch 33, global step 3400: 'train_loss' was not in top 1\n",
      "INFO:lightning.pytorch.utilities.rank_zero:Epoch 33, global step 3400: 'train_loss' was not in top 1\n"
     ]
    },
    {
     "name": "stdout",
     "output_type": "stream",
     "text": [
      "Epoch 34: |          | 100/? [00:00<00:00, 101.06it/s, v_num=3, train_loss=8.640]"
     ]
    },
    {
     "name": "stderr",
     "output_type": "stream",
     "text": [
      "INFO: Epoch 34, global step 3500: 'train_loss' was not in top 1\n",
      "INFO:lightning.pytorch.utilities.rank_zero:Epoch 34, global step 3500: 'train_loss' was not in top 1\n"
     ]
    },
    {
     "name": "stdout",
     "output_type": "stream",
     "text": [
      "Epoch 35: |          | 100/? [00:00<00:00, 104.39it/s, v_num=3, train_loss=8.680]"
     ]
    },
    {
     "name": "stderr",
     "output_type": "stream",
     "text": [
      "INFO: Epoch 35, global step 3600: 'train_loss' was not in top 1\n",
      "INFO:lightning.pytorch.utilities.rank_zero:Epoch 35, global step 3600: 'train_loss' was not in top 1\n"
     ]
    },
    {
     "name": "stdout",
     "output_type": "stream",
     "text": [
      "Epoch 36: |          | 100/? [00:01<00:00, 99.87it/s, v_num=3, train_loss=8.610] "
     ]
    },
    {
     "name": "stderr",
     "output_type": "stream",
     "text": [
      "INFO: Epoch 36, global step 3700: 'train_loss' was not in top 1\n",
      "INFO:lightning.pytorch.utilities.rank_zero:Epoch 36, global step 3700: 'train_loss' was not in top 1\n"
     ]
    },
    {
     "name": "stdout",
     "output_type": "stream",
     "text": [
      "Epoch 37: |          | 100/? [00:00<00:00, 101.36it/s, v_num=3, train_loss=8.650]"
     ]
    },
    {
     "name": "stderr",
     "output_type": "stream",
     "text": [
      "INFO: Epoch 37, global step 3800: 'train_loss' was not in top 1\n",
      "INFO:lightning.pytorch.utilities.rank_zero:Epoch 37, global step 3800: 'train_loss' was not in top 1\n"
     ]
    },
    {
     "name": "stdout",
     "output_type": "stream",
     "text": [
      "Epoch 38: |          | 100/? [00:00<00:00, 100.78it/s, v_num=3, train_loss=8.630]"
     ]
    },
    {
     "name": "stderr",
     "output_type": "stream",
     "text": [
      "INFO: Epoch 38, global step 3900: 'train_loss' was not in top 1\n",
      "INFO:lightning.pytorch.utilities.rank_zero:Epoch 38, global step 3900: 'train_loss' was not in top 1\n"
     ]
    },
    {
     "name": "stdout",
     "output_type": "stream",
     "text": [
      "Epoch 39: |          | 100/? [00:00<00:00, 100.87it/s, v_num=3, train_loss=8.630]"
     ]
    },
    {
     "name": "stderr",
     "output_type": "stream",
     "text": [
      "INFO: Epoch 39, global step 4000: 'train_loss' was not in top 1\n",
      "INFO:lightning.pytorch.utilities.rank_zero:Epoch 39, global step 4000: 'train_loss' was not in top 1\n"
     ]
    },
    {
     "name": "stdout",
     "output_type": "stream",
     "text": [
      "Epoch 40: |          | 100/? [00:01<00:00, 97.73it/s, v_num=3, train_loss=8.690] "
     ]
    },
    {
     "name": "stderr",
     "output_type": "stream",
     "text": [
      "INFO: Epoch 40, global step 4100: 'train_loss' was not in top 1\n",
      "INFO:lightning.pytorch.utilities.rank_zero:Epoch 40, global step 4100: 'train_loss' was not in top 1\n"
     ]
    },
    {
     "name": "stdout",
     "output_type": "stream",
     "text": [
      "Epoch 41: |          | 100/? [00:00<00:00, 100.90it/s, v_num=3, train_loss=8.650]"
     ]
    },
    {
     "name": "stderr",
     "output_type": "stream",
     "text": [
      "INFO: Epoch 41, global step 4200: 'train_loss' was not in top 1\n",
      "INFO:lightning.pytorch.utilities.rank_zero:Epoch 41, global step 4200: 'train_loss' was not in top 1\n"
     ]
    },
    {
     "name": "stdout",
     "output_type": "stream",
     "text": [
      "Epoch 42: |          | 100/? [00:00<00:00, 100.34it/s, v_num=3, train_loss=8.640]"
     ]
    },
    {
     "name": "stderr",
     "output_type": "stream",
     "text": [
      "INFO: Epoch 42, global step 4300: 'train_loss' was not in top 1\n",
      "INFO:lightning.pytorch.utilities.rank_zero:Epoch 42, global step 4300: 'train_loss' was not in top 1\n"
     ]
    },
    {
     "name": "stdout",
     "output_type": "stream",
     "text": [
      "Epoch 43: |          | 100/? [00:00<00:00, 101.84it/s, v_num=3, train_loss=8.610]"
     ]
    },
    {
     "name": "stderr",
     "output_type": "stream",
     "text": [
      "INFO: Epoch 43, global step 4400: 'train_loss' was not in top 1\n",
      "INFO:lightning.pytorch.utilities.rank_zero:Epoch 43, global step 4400: 'train_loss' was not in top 1\n"
     ]
    },
    {
     "name": "stdout",
     "output_type": "stream",
     "text": [
      "Epoch 44: |          | 100/? [00:00<00:00, 100.81it/s, v_num=3, train_loss=8.610]"
     ]
    },
    {
     "name": "stderr",
     "output_type": "stream",
     "text": [
      "INFO: Epoch 44, global step 4500: 'train_loss' was not in top 1\n",
      "INFO:lightning.pytorch.utilities.rank_zero:Epoch 44, global step 4500: 'train_loss' was not in top 1\n"
     ]
    },
    {
     "name": "stdout",
     "output_type": "stream",
     "text": [
      "Epoch 45: |          | 100/? [00:00<00:00, 103.86it/s, v_num=3, train_loss=8.660]"
     ]
    },
    {
     "name": "stderr",
     "output_type": "stream",
     "text": [
      "INFO: Epoch 45, global step 4600: 'train_loss' was not in top 1\n",
      "INFO:lightning.pytorch.utilities.rank_zero:Epoch 45, global step 4600: 'train_loss' was not in top 1\n"
     ]
    },
    {
     "name": "stdout",
     "output_type": "stream",
     "text": [
      "Epoch 46: |          | 100/? [00:01<00:00, 99.38it/s, v_num=3, train_loss=8.600] "
     ]
    },
    {
     "name": "stderr",
     "output_type": "stream",
     "text": [
      "INFO: Epoch 46, global step 4700: 'train_loss' was not in top 1\n",
      "INFO:lightning.pytorch.utilities.rank_zero:Epoch 46, global step 4700: 'train_loss' was not in top 1\n"
     ]
    },
    {
     "name": "stdout",
     "output_type": "stream",
     "text": [
      "Epoch 47: |          | 100/? [00:00<00:00, 101.02it/s, v_num=3, train_loss=8.710]"
     ]
    },
    {
     "name": "stderr",
     "output_type": "stream",
     "text": [
      "INFO: Epoch 47, global step 4800: 'train_loss' was not in top 1\n",
      "INFO:lightning.pytorch.utilities.rank_zero:Epoch 47, global step 4800: 'train_loss' was not in top 1\n"
     ]
    },
    {
     "name": "stdout",
     "output_type": "stream",
     "text": [
      "Epoch 48: |          | 100/? [00:01<00:00, 98.95it/s, v_num=3, train_loss=8.680] "
     ]
    },
    {
     "name": "stderr",
     "output_type": "stream",
     "text": [
      "INFO: Epoch 48, global step 4900: 'train_loss' was not in top 1\n",
      "INFO:lightning.pytorch.utilities.rank_zero:Epoch 48, global step 4900: 'train_loss' was not in top 1\n"
     ]
    },
    {
     "name": "stdout",
     "output_type": "stream",
     "text": [
      "Epoch 49: |          | 100/? [00:00<00:00, 103.17it/s, v_num=3, train_loss=8.580]"
     ]
    },
    {
     "name": "stderr",
     "output_type": "stream",
     "text": [
      "INFO: Epoch 49, global step 5000: 'train_loss' was not in top 1\n",
      "INFO:lightning.pytorch.utilities.rank_zero:Epoch 49, global step 5000: 'train_loss' was not in top 1\n",
      "INFO: `Trainer.fit` stopped: `max_epochs=50` reached.\n",
      "INFO:lightning.pytorch.utilities.rank_zero:`Trainer.fit` stopped: `max_epochs=50` reached.\n"
     ]
    },
    {
     "name": "stdout",
     "output_type": "stream",
     "text": [
      "Epoch 49: |          | 100/? [00:00<00:00, 102.43it/s, v_num=3, train_loss=8.580]\n"
     ]
    }
   ],
   "source": [
    "predictor = estimator.train(\n",
    "    \n",
    "    training_data=train_dataset, \n",
    "    cache_data=True, \n",
    "    shuffle_buffer_length=1024,\n",
    "    epochs = 100\n",
    ")"
   ]
  },
  {
   "cell_type": "code",
   "execution_count": 74,
   "metadata": {},
   "outputs": [
    {
     "name": "stderr",
     "output_type": "stream",
     "text": [
      "Running evaluation: 427it [00:03, 134.46it/s]\n"
     ]
    }
   ],
   "source": [
    "from gluonts.evaluation import make_evaluation_predictions, Evaluator\n",
    "\n",
    "forecast_it, ts_it = make_evaluation_predictions(\n",
    "    dataset=dataset.test,\n",
    "    predictor=predictor,\n",
    ")\n",
    "\n",
    "d_linear_forecasts = list(forecast_it)\n",
    "d_linear_tss = list(ts_it)\n",
    "\n",
    "evaluator = Evaluator()\n",
    "\n",
    "agg_metrics, _ = evaluator(iter(d_linear_tss), iter(d_linear_forecasts))\n"
   ]
  },
  {
   "cell_type": "code",
   "execution_count": 75,
   "metadata": {},
   "outputs": [
    {
     "name": "stdout",
     "output_type": "stream",
     "text": [
      "DLinear MASE: 1.667\n"
     ]
    }
   ],
   "source": [
    "dlinear_mase = agg_metrics[\"MASE\"]\n",
    "print(f\"DLinear MASE: {dlinear_mase:.3f}\")\n",
    "\n",
    "\n"
   ]
  },
  {
   "cell_type": "code",
   "execution_count": 76,
   "metadata": {},
   "outputs": [],
   "source": [
    "def plot_gluonts(index):\n",
    "    plt.plot(d_linear_tss[index][-4 * dataset.metadata.prediction_length:].to_timestamp(), label=\"target\")\n",
    "    d_linear_forecasts[index].plot(show_label=True,  color='g')\n",
    "    plt.legend()\n",
    "    plt.gcf().autofmt_xdate()\n",
    "    plt.show()\n"
   ]
  },
  {
   "cell_type": "code",
   "execution_count": 77,
   "metadata": {},
   "outputs": [
    {
     "data": {
      "image/png": "[encoded data removed]",
      "text/plain": [
       "<Figure size 640x480 with 1 Axes>"
      ]
     },
     "metadata": {},
     "output_type": "display_data"
    }
   ],
   "source": [
    "plot_gluonts(4)\n"
   ]
  },
  {
   "cell_type": "code",
   "execution_count": 78,
   "metadata": {},
   "outputs": [
    {
     "name": "stdout",
     "output_type": "stream",
     "text": [
      "DLinear MAPE: 0.193\n"
     ]
    }
   ],
   "source": [
    "dlinear_mape = agg_metrics[\"MAPE\"]\n",
    "print(f\"DLinear MAPE: {dlinear_mape:.3f}\")"
   ]
  }
 ],
 "metadata": {
  "kernelspec": {
   "display_name": "test_tsf",
   "language": "python",
   "name": "python3"
  },
  "language_info": {
   "codemirror_mode": {
    "name": "ipython",
    "version": 3
   },
   "file_extension": ".py",
   "mimetype": "text/x-python",
   "name": "python",
   "nbconvert_exporter": "python",
   "pygments_lexer": "ipython3",
   "version": "3.9.5"
  }
 },
 "nbformat": 4,
 "nbformat_minor": 2
}
